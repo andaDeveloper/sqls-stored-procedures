{
    "metadata": {
        "kernelspec": {
            "name": "SQL",
            "display_name": "SQL",
            "language": "sql"
        },
        "language_info": {
            "name": "sql",
            "version": ""
        }
    },
    "nbformat_minor": 2,
    "nbformat": 4,
    "cells": [
        {
            "cell_type": "markdown",
            "source": [
                "# Issues"
            ],
            "metadata": {
                "language": "sql",
                "azdata_cell_guid": "376f3e23-0ea3-4b13-ac96-61f9c6daca52"
            },
            "attachments": {}
        },
        {
            "cell_type": "code",
            "source": [
                "/* crear tabla log\r\n",
                "1)\t\r\n",
                "\t\tid_log\r\n",
                "\t\tnombreLibro_anterior\r\n",
                "\t\tnombreLibro_actual\r\n",
                "\t\tid_libro\r\n",
                "\t\tfechaModificacion\r\n",
                "\t\t\t\r\n",
                "\r\n",
                "-- guardar los datos, cuando se esten actualizando\r\n",
                "\r\n",
                "\t\r\n",
                "2)\tcrear Sp guardar libro \r\n",
                "\tValidar Nombre del libro y autor, no se deben repetir\r\n",
                "\r\n",
                "\r\n",
                "*/"
            ],
            "metadata": {
                "language": "sql",
                "azdata_cell_guid": "4c4007d1-ed18-4d40-b24e-5d25d5f37548"
            },
            "outputs": [],
            "execution_count": null
        },
        {
            "cell_type": "markdown",
            "source": [
                "# Register updated books"
            ],
            "metadata": {
                "azdata_cell_guid": "dbd91914-2c23-493d-8b99-83a3cd3298aa"
            },
            "attachments": {}
        },
        {
            "cell_type": "markdown",
            "source": [
                "Deprecated version"
            ],
            "metadata": {
                "language": "sql",
                "azdata_cell_guid": "bc0b4b45-4470-4e83-aaa3-d9b03497688e"
            },
            "attachments": {}
        },
        {
            "cell_type": "code",
            "source": [
                "CREATE PROCEDURE SP_ActualizarLibros\r\n",
                "    @Id_libro int, \r\n",
                "    @Nombre_libro nvarchar(50), \r\n",
                "    @Autor nvarchar(50), \r\n",
                "    @Fecha_lanzamiento  datetime,\r\n",
                "    @Usuario nvarchar(30)\r\n",
                "AS      \r\n",
                "BEGIN\r\n",
                "    UPDATE \"Books\"\r\n",
                "    SET \r\n",
                "         Nombre_libro = @Nombre_libro, \r\n",
                "         Autor = @Autor, \r\n",
                "         Fecha_lanzamiento = @Fecha_lanzamiento,\r\n",
                "         Campos_auditoria = @Usuario  \r\n",
                "    WHERE Id_libro = @Id_libro;\r\n",
                "END;"
            ],
            "metadata": {
                "azdata_cell_guid": "e265ed3f-438d-44c3-820a-55f843044a4b",
                "language": "sql",
                "tags": [
                    "hide_input"
                ]
            },
            "outputs": [],
            "execution_count": null
        },
        {
            "cell_type": "markdown",
            "source": [
                "Setup"
            ],
            "metadata": {
                "language": "sql",
                "azdata_cell_guid": "86ff28fe-1be7-4d88-ada9-f48d384ce1e8"
            },
            "attachments": {}
        },
        {
            "cell_type": "code",
            "source": [
                "create table Logs (\r\n",
                "    id_log INT IDENTITY PRIMARY KEY,\r\n",
                "    nombreLibro_anterior varchar(60) NOT NULL,\r\n",
                "    nombreLibro_actual varchar(60) NOT NULL,\r\n",
                "    id_libro int NOT NULL,\r\n",
                "    fechaModificacion datetime default getdate()\r\n",
                ")"
            ],
            "metadata": {
                "language": "sql",
                "azdata_cell_guid": "f52b19c5-1c27-4011-b4ac-82f4e67524d5",
                "tags": [
                    "hide_input"
                ]
            },
            "outputs": [],
            "execution_count": null
        },
        {
            "cell_type": "code",
            "source": [
                "create procedure SP_ActualizarLibros\r\n",
                "    @Id_libro int, \r\n",
                "    @Nombre_libro varchar(50), \r\n",
                "    @Autor varchar(50), \r\n",
                "    @Fecha_lanzamiento  datetime,\r\n",
                "    @Usuario varchar(30)\r\n",
                "AS      \r\n",
                "BEGIN\r\n",
                "    begin try\r\n",
                "\r\n",
                "        -- check if Nombre_libro was updated\r\n",
                "        declare @nombre_anterior varchar(50);\r\n",
                "        select @nombre_anterior=Nombre_libro from Books where Id_libro = @Id_libro;\r\n",
                "\r\n",
                "        if @nombre_anterior = @Nombre_libro\r\n",
                "            -- if not, just execute the update\r\n",
                "            UPDATE \"Books\"\r\n",
                "            SET \r\n",
                "                Nombre_libro = @Nombre_libro, \r\n",
                "                Autor = @Autor, \r\n",
                "                Fecha_lanzamiento = @Fecha_lanzamiento,\r\n",
                "                Campos_auditoria = @Usuario  \r\n",
                "                WHERE Id_libro = @Id_libro;\r\n",
                "\r\n",
                "        else \r\n",
                "            -- if was, insert old name into Logs table\r\n",
                "            INSERT INTO Logs (nombreLibro_anterior, nombreLibro_actual, id_libro)\r\n",
                "            VALUES (@nombre_anterior, @Nombre_libro, @Id_libro)\r\n",
                "\r\n",
                "\r\n",
                "            UPDATE \"Books\"\r\n",
                "            SET \r\n",
                "                Nombre_libro = @Nombre_libro, \r\n",
                "                Autor = @Autor, \r\n",
                "                Fecha_lanzamiento = @Fecha_lanzamiento,\r\n",
                "                Campos_auditoria = @Usuario  \r\n",
                "            WHERE Id_libro = @Id_libro;\r\n",
                "\r\n",
                "    end try\r\n",
                "\r\n",
                "    begin catch\r\n",
                "        \r\n",
                "        select 'Something went wrong with the update' + ERROR_MESSAGE();\r\n",
                "\r\n",
                "    end catch\r\n",
                "\r\n",
                "END;"
            ],
            "metadata": {
                "language": "sql",
                "azdata_cell_guid": "24ed18c2-a496-465d-af59-fd0a5bad2086",
                "tags": [
                    "hide_input"
                ]
            },
            "outputs": [],
            "execution_count": null
        },
        {
            "cell_type": "markdown",
            "source": [
                "Check"
            ],
            "metadata": {
                "language": "sql",
                "azdata_cell_guid": "12e5fcf2-cf95-4708-9f56-fc3d358a71c1"
            },
            "attachments": {}
        },
        {
            "cell_type": "code",
            "source": [
                "exec SP_ActualizarLibros\r\n",
                "    @Id_libro=4,\r\n",
                "    @Nombre_libro='The fourth one', \r\n",
                "    @Autor='DropDead', \r\n",
                "    @Fecha_lanzamiento='2023-02-12',\r\n",
                "    @Usuario='dbAdmin'"
            ],
            "metadata": {
                "language": "sql",
                "azdata_cell_guid": "e5f19c5b-c19d-4f43-9759-85b7d4955d00",
                "tags": []
            },
            "outputs": [],
            "execution_count": null
        },
        {
            "cell_type": "code",
            "source": [
                "select top(1) * from Books order by Id_libro desc\r\n",
                "select * from Logs"
            ],
            "metadata": {
                "language": "sql",
                "azdata_cell_guid": "1a20a52e-11e7-424d-a8f0-6473f635fb04"
            },
            "outputs": [
                {
                    "output_type": "display_data",
                    "data": {
                        "text/html": "(1 row affected)"
                    },
                    "metadata": {}
                },
                {
                    "output_type": "display_data",
                    "data": {
                        "text/html": "(1 row affected)"
                    },
                    "metadata": {}
                },
                {
                    "output_type": "display_data",
                    "data": {
                        "text/html": "Total execution time: 00:00:00.029"
                    },
                    "metadata": {}
                },
                {
                    "output_type": "execute_result",
                    "execution_count": 41,
                    "data": {
                        "application/vnd.dataresource+json": {
                            "schema": {
                                "fields": [
                                    {
                                        "name": "Id_libro"
                                    },
                                    {
                                        "name": "Nombre_libro"
                                    },
                                    {
                                        "name": "Autor"
                                    },
                                    {
                                        "name": "Fecha_lanzamiento"
                                    },
                                    {
                                        "name": "Campos_auditoria"
                                    }
                                ]
                            },
                            "data": [
                                {
                                    "Id_libro": "4",
                                    "Nombre_libro": "The fourth one",
                                    "Autor": "DropDead",
                                    "Fecha_lanzamiento": "2023-12-02 00:00:00.0000000",
                                    "Campos_auditoria": "dbAdmin"
                                }
                            ]
                        },
                        "text/html": "<table><tr><th>Id_libro</th><th>Nombre_libro</th><th>Autor</th><th>Fecha_lanzamiento</th><th>Campos_auditoria</th></tr><tr><td>4</td><td>The fourth one</td><td>DropDead</td><td>2023-12-02 00:00:00.0000000</td><td>dbAdmin</td></tr></table>"
                    },
                    "metadata": {}
                },
                {
                    "output_type": "execute_result",
                    "execution_count": 41,
                    "data": {
                        "application/vnd.dataresource+json": {
                            "schema": {
                                "fields": [
                                    {
                                        "name": "id_log"
                                    },
                                    {
                                        "name": "nombreLibro_anterior"
                                    },
                                    {
                                        "name": "nombreLibro_actual"
                                    },
                                    {
                                        "name": "id_libro"
                                    },
                                    {
                                        "name": "fechaModificacion"
                                    }
                                ]
                            },
                            "data": [
                                {
                                    "id_log": "1",
                                    "nombreLibro_anterior": "The fifth one",
                                    "nombreLibro_actual": "The fourth one",
                                    "id_libro": "4",
                                    "fechaModificacion": "2023-12-21 09:04:33.750"
                                }
                            ]
                        },
                        "text/html": "<table><tr><th>id_log</th><th>nombreLibro_anterior</th><th>nombreLibro_actual</th><th>id_libro</th><th>fechaModificacion</th></tr><tr><td>1</td><td>The fifth one</td><td>The fourth one</td><td>4</td><td>2023-12-21 09:04:33.750</td></tr></table>"
                    },
                    "metadata": {}
                }
            ],
            "execution_count": 41
        },
        {
            "cell_type": "markdown",
            "source": [
                "How many title updates are per book?"
            ],
            "metadata": {
                "language": "sql",
                "azdata_cell_guid": "fdf088c4-bc87-4e47-a578-84fa8b622659"
            },
            "attachments": {}
        },
        {
            "cell_type": "code",
            "source": [
                "select b.Id_libro, count(l.nombreLibro_anterior) as title_changes \r\n",
                "from Books b\r\n",
                "inner join Logs l\r\n",
                "on l.id_libro = b.Id_libro\r\n",
                "group by b.Id_libro\r\n",
                "order by title_changes desc"
            ],
            "metadata": {
                "azdata_cell_guid": "66299f15-760f-4df3-a60f-528011a3203a",
                "language": "sql",
                "tags": []
            },
            "outputs": [],
            "execution_count": null
        },
        {
            "cell_type": "markdown",
            "source": [
                "# Avoid duplicates"
            ],
            "metadata": {
                "language": "sql",
                "azdata_cell_guid": "a2f008c0-8e5e-42f6-b1f0-626b7947a369"
            },
            "attachments": {}
        },
        {
            "cell_type": "markdown",
            "source": [
                "Setup"
            ],
            "metadata": {
                "language": "sql",
                "azdata_cell_guid": "1d54eaa9-e10f-4c07-9ffd-f52afd59794c"
            },
            "attachments": {}
        },
        {
            "cell_type": "code",
            "source": [
                "create procedure SP_CrearLibros\r\n",
                "    @Nombre_libro varchar(50), \r\n",
                "    @Autor varchar(50), \r\n",
                "    @Fecha_lanzamiento  datetime,\r\n",
                "    @Usuario varchar(30)\r\n",
                "\r\n",
                "as begin\r\n",
                "\r\n",
                "    begin try\r\n",
                "        -- book name validation\r\n",
                "        if exists(select Nombre_libro from Books where Nombre_libro = @Nombre_libro)\r\n",
                "            RAISERROR('You cant, book name already exists', 16, 1);\r\n",
                "\r\n",
                "        -- author name validation\r\n",
                "        if exists(select Autor from Books where Autor = @Autor)\r\n",
                "            RAISERROR('You cant, author name already exists', 16, 1);\r\n",
                "\r\n",
                "        insert into Books (Nombre_libro, Autor, Fecha_lanzamiento, Campos_auditoria)\r\n",
                "            values (@Nombre_libro, @Autor, @Fecha_lanzamiento, @Usuario)\r\n",
                "\r\n",
                "        -- operation output message\r\n",
                "        select 'correctly inserted' Mensaje, 1 Bandera\r\n",
                "\r\n",
                "    end try\r\n",
                "\r\n",
                "    begin catch\r\n",
                "\r\n",
                "        select '' + ERROR_MESSAGE() Mensaje, 0 Bandera,\r\n",
                "        ERROR_LINE() at_line,\r\n",
                "        ERROR_PROCEDURE() procedure_name,\r\n",
                "        ERROR_NUMBER() error_number\r\n",
                "\r\n",
                "    end catch\r\n",
                "end"
            ],
            "metadata": {
                "language": "sql",
                "azdata_cell_guid": "2196f54c-1a44-4290-826f-de00d88db50e",
                "tags": [
                    "hide_input"
                ]
            },
            "outputs": [],
            "execution_count": null
        },
        {
            "cell_type": "markdown",
            "source": [
                "Check"
            ],
            "metadata": {
                "language": "sql",
                "azdata_cell_guid": "dd8ebd77-dca1-49a8-8216-5ce2aac1e906"
            },
            "attachments": {}
        },
        {
            "cell_type": "code",
            "source": [
                "exec SP_CrearLibros\r\n",
                "@Nombre_libro = 'The fifth one',\r\n",
                "@Autor = 'DropDead',\r\n",
                "@Fecha_lanzamiento = '2002-02-09',\r\n",
                "@Usuario = 'DB'"
            ],
            "metadata": {
                "language": "sql",
                "azdata_cell_guid": "8b3660d5-c7a3-430f-ad92-992c38dd4a70",
                "tags": []
            },
            "outputs": [],
            "execution_count": null
        },
        {
            "cell_type": "code",
            "source": [
                "select * from Books"
            ],
            "metadata": {
                "language": "sql",
                "azdata_cell_guid": "4446cec7-2774-4a29-bbc4-5c4f0f336be5"
            },
            "outputs": [
                {
                    "output_type": "display_data",
                    "data": {
                        "text/html": "(4 rows affected)"
                    },
                    "metadata": {}
                },
                {
                    "output_type": "display_data",
                    "data": {
                        "text/html": "Total execution time: 00:00:00.006"
                    },
                    "metadata": {}
                },
                {
                    "output_type": "execute_result",
                    "execution_count": 39,
                    "data": {
                        "application/vnd.dataresource+json": {
                            "schema": {
                                "fields": [
                                    {
                                        "name": "Id_libro"
                                    },
                                    {
                                        "name": "Nombre_libro"
                                    },
                                    {
                                        "name": "Autor"
                                    },
                                    {
                                        "name": "Fecha_lanzamiento"
                                    },
                                    {
                                        "name": "Campos_auditoria"
                                    }
                                ]
                            },
                            "data": [
                                {
                                    "Id_libro": "1",
                                    "Nombre_libro": "The first one",
                                    "Autor": "Cohelo",
                                    "Fecha_lanzamiento": "2023-12-21 08:57:00.0000000",
                                    "Campos_auditoria": "Paco"
                                },
                                {
                                    "Id_libro": "2",
                                    "Nombre_libro": "The second one",
                                    "Autor": "Re",
                                    "Fecha_lanzamiento": "2023-12-21 08:58:00.0000000",
                                    "Campos_auditoria": "Alfonso"
                                },
                                {
                                    "Id_libro": "3",
                                    "Nombre_libro": "The third one",
                                    "Autor": "Kojima",
                                    "Fecha_lanzamiento": "2023-12-21 08:58:00.0000000",
                                    "Campos_auditoria": "Eduardo"
                                },
                                {
                                    "Id_libro": "4",
                                    "Nombre_libro": "The fourth one",
                                    "Autor": "DropDead",
                                    "Fecha_lanzamiento": "2023-12-02 00:00:00.0000000",
                                    "Campos_auditoria": "dbAdmin"
                                }
                            ]
                        },
                        "text/html": "<table><tr><th>Id_libro</th><th>Nombre_libro</th><th>Autor</th><th>Fecha_lanzamiento</th><th>Campos_auditoria</th></tr><tr><td>1</td><td>The first one</td><td>Cohelo</td><td>2023-12-21 08:57:00.0000000</td><td>Paco</td></tr><tr><td>2</td><td>The second one</td><td>Re</td><td>2023-12-21 08:58:00.0000000</td><td>Alfonso</td></tr><tr><td>3</td><td>The third one</td><td>Kojima</td><td>2023-12-21 08:58:00.0000000</td><td>Eduardo</td></tr><tr><td>4</td><td>The fourth one</td><td>DropDead</td><td>2023-12-02 00:00:00.0000000</td><td>dbAdmin</td></tr></table>"
                    },
                    "metadata": {}
                }
            ],
            "execution_count": 39
        }
    ]
}